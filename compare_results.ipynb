{
 "cells": [
  {
   "cell_type": "markdown",
   "metadata": {},
   "source": [
    "# Load Results"
   ]
  },
  {
   "cell_type": "code",
   "execution_count": 8,
   "metadata": {},
   "outputs": [],
   "source": [
    "from zubora_gabora.experiment.experiment_loader import ExperimentLoader\n",
    "from scipy.stats import wilcoxon\n",
    "\n",
    "# Load the experiment\n",
    "ga_experiments = ExperimentLoader(\"experiments/ga/\").experiment_data\n",
    "aco_experiments = ExperimentLoader(\"experiments/aco/\").experiment_data\n",
    "num_experiments = len(ga_experiments[\"experiment_id\"].unique())\n"
   ]
  },
  {
   "cell_type": "markdown",
   "metadata": {},
   "source": [
    "# Compare using Wilcoxon signed-rank test"
   ]
  },
  {
   "cell_type": "code",
   "execution_count": 9,
   "metadata": {},
   "outputs": [
    {
     "name": "stdout",
     "output_type": "stream",
     "text": [
      "Experiment 1\n",
      "GA Fitness: 37.87096774193548 +/- 33.84645913088878\n",
      "ACO Fitness: 29.51613003225807 +/- 0.5080005080007637\n"
     ]
    },
    {
     "ename": "ValueError",
     "evalue": "The truth value of a Series is ambiguous. Use a.empty, a.bool(), a.item(), a.any() or a.all().",
     "output_type": "error",
     "traceback": [
      "\u001b[1;31m---------------------------------------------------------------------------\u001b[0m",
      "\u001b[1;31mValueError\u001b[0m                                Traceback (most recent call last)",
      "\u001b[1;32m~\\AppData\\Local\\Temp\\ipykernel_33100\\2594155165.py\u001b[0m in \u001b[0;36m?\u001b[1;34m()\u001b[0m\n\u001b[0;32m     14\u001b[0m   \u001b[0mprint\u001b[0m\u001b[1;33m(\u001b[0m\u001b[1;33mf\"\u001b[0m\u001b[1;33mExperiment \u001b[0m\u001b[1;33m{\u001b[0m\u001b[0mi\u001b[0m\u001b[1;33m}\u001b[0m\u001b[1;33m\"\u001b[0m\u001b[1;33m)\u001b[0m\u001b[1;33m\u001b[0m\u001b[1;33m\u001b[0m\u001b[0m\n\u001b[0;32m     15\u001b[0m   \u001b[0mprint\u001b[0m\u001b[1;33m(\u001b[0m\u001b[1;33mf\"\u001b[0m\u001b[1;33mGA Fitness: \u001b[0m\u001b[1;33m{\u001b[0m\u001b[0mga_fitness\u001b[0m\u001b[1;33m.\u001b[0m\u001b[0mmean\u001b[0m\u001b[1;33m(\u001b[0m\u001b[1;33m)\u001b[0m\u001b[1;33m}\u001b[0m\u001b[1;33m +/- \u001b[0m\u001b[1;33m{\u001b[0m\u001b[0mga_fitness\u001b[0m\u001b[1;33m.\u001b[0m\u001b[0mstd\u001b[0m\u001b[1;33m(\u001b[0m\u001b[1;33m)\u001b[0m\u001b[1;33m}\u001b[0m\u001b[1;33m\"\u001b[0m\u001b[1;33m)\u001b[0m\u001b[1;33m\u001b[0m\u001b[1;33m\u001b[0m\u001b[0m\n\u001b[0;32m     16\u001b[0m   \u001b[0mprint\u001b[0m\u001b[1;33m(\u001b[0m\u001b[1;33mf\"\u001b[0m\u001b[1;33mACO Fitness: \u001b[0m\u001b[1;33m{\u001b[0m\u001b[0maco_fitness\u001b[0m\u001b[1;33m.\u001b[0m\u001b[0mmean\u001b[0m\u001b[1;33m(\u001b[0m\u001b[1;33m)\u001b[0m\u001b[1;33m}\u001b[0m\u001b[1;33m +/- \u001b[0m\u001b[1;33m{\u001b[0m\u001b[0maco_fitness\u001b[0m\u001b[1;33m.\u001b[0m\u001b[0mstd\u001b[0m\u001b[1;33m(\u001b[0m\u001b[1;33m)\u001b[0m\u001b[1;33m}\u001b[0m\u001b[1;33m\"\u001b[0m\u001b[1;33m)\u001b[0m\u001b[1;33m\u001b[0m\u001b[1;33m\u001b[0m\u001b[0m\n\u001b[0;32m     17\u001b[0m \u001b[1;33m\u001b[0m\u001b[0m\n\u001b[1;32m---> 18\u001b[1;33m   \u001b[1;32mif\u001b[0m \u001b[0mis_better\u001b[0m\u001b[1;33m(\u001b[0m\u001b[0mga_fitness\u001b[0m\u001b[1;33m,\u001b[0m \u001b[0maco_fitness\u001b[0m\u001b[1;33m)\u001b[0m\u001b[1;33m:\u001b[0m\u001b[1;33m\u001b[0m\u001b[1;33m\u001b[0m\u001b[0m\n\u001b[0m\u001b[0;32m     19\u001b[0m     \u001b[0mprint\u001b[0m\u001b[1;33m(\u001b[0m\u001b[1;34m\"GA is better than ACO in Quality\"\u001b[0m\u001b[1;33m)\u001b[0m\u001b[1;33m\u001b[0m\u001b[1;33m\u001b[0m\u001b[0m\n\u001b[0;32m     20\u001b[0m   \u001b[1;32melse\u001b[0m\u001b[1;33m:\u001b[0m\u001b[1;33m\u001b[0m\u001b[1;33m\u001b[0m\u001b[0m\n\u001b[0;32m     21\u001b[0m     \u001b[0mprint\u001b[0m\u001b[1;33m(\u001b[0m\u001b[1;34m\"ACO is better than GA in Quality\"\u001b[0m\u001b[1;33m)\u001b[0m\u001b[1;33m\u001b[0m\u001b[1;33m\u001b[0m\u001b[0m\n",
      "\u001b[1;32mc:\\Users\\Cristian\\anaconda3\\envs\\py12\\Lib\\site-packages\\pandas\\core\\generic.py\u001b[0m in \u001b[0;36m?\u001b[1;34m(self)\u001b[0m\n\u001b[0;32m   1517\u001b[0m     \u001b[1;33m@\u001b[0m\u001b[0mfinal\u001b[0m\u001b[1;33m\u001b[0m\u001b[1;33m\u001b[0m\u001b[0m\n\u001b[0;32m   1518\u001b[0m     \u001b[1;32mdef\u001b[0m \u001b[0m__nonzero__\u001b[0m\u001b[1;33m(\u001b[0m\u001b[0mself\u001b[0m\u001b[1;33m)\u001b[0m \u001b[1;33m->\u001b[0m \u001b[0mNoReturn\u001b[0m\u001b[1;33m:\u001b[0m\u001b[1;33m\u001b[0m\u001b[1;33m\u001b[0m\u001b[0m\n\u001b[1;32m-> 1519\u001b[1;33m         raise ValueError(\n\u001b[0m\u001b[0;32m   1520\u001b[0m             \u001b[1;33mf\"\u001b[0m\u001b[1;33mThe truth value of a \u001b[0m\u001b[1;33m{\u001b[0m\u001b[0mtype\u001b[0m\u001b[1;33m(\u001b[0m\u001b[0mself\u001b[0m\u001b[1;33m)\u001b[0m\u001b[1;33m.\u001b[0m\u001b[0m__name__\u001b[0m\u001b[1;33m}\u001b[0m\u001b[1;33m is ambiguous. \u001b[0m\u001b[1;33m\"\u001b[0m\u001b[1;33m\u001b[0m\u001b[1;33m\u001b[0m\u001b[0m\n\u001b[0;32m   1521\u001b[0m             \u001b[1;34m\"Use a.empty, a.bool(), a.item(), a.any() or a.all().\"\u001b[0m\u001b[1;33m\u001b[0m\u001b[1;33m\u001b[0m\u001b[0m\n\u001b[0;32m   1522\u001b[0m         \u001b[1;33m)\u001b[0m\u001b[1;33m\u001b[0m\u001b[1;33m\u001b[0m\u001b[0m\n",
      "\u001b[1;31mValueError\u001b[0m: The truth value of a Series is ambiguous. Use a.empty, a.bool(), a.item(), a.any() or a.all()."
     ]
    }
   ],
   "source": [
    "def is_better(a,b):\n",
    "  return a < b\n",
    "\n",
    "alpha = 0.05\n",
    "\n",
    "for i in range(1,num_experiments+1):\n",
    "  # Extract those where column experiment_id equals i\n",
    "  ga_experiment = ga_experiments[ga_experiments[\"experiment_id\"] == i]\n",
    "  aco_experiment = aco_experiments[aco_experiments[\"experiment_id\"] == i]\n",
    "\n",
    "  ga_fitness = ga_experiment[\"fitness\"]\n",
    "  aco_fitness = aco_experiment[\"fitness\"]\n",
    "\n",
    "  print(f\"Experiment {i}\")\n",
    "  print(f\"GA Fitness: {ga_fitness.mean()} +/- {ga_fitness.std()}\")\n",
    "  print(f\"ACO Fitness: {aco_fitness.mean()} +/- {aco_fitness.std()}\")\n",
    "\n",
    "  if is_better(ga_fitness, aco_fitness):\n",
    "    print(\"GA is better than ACO in Quality\")\n",
    "  else:\n",
    "    print(\"ACO is better than GA in Quality\")\n",
    "\n",
    "  res = wilcoxon(ga_fitness, aco_fitness)\n",
    "  if res.p_value < alpha:\n",
    "    print(\"The difference is statistically significant\")\n",
    "  else:\n",
    "    print(\"The difference is not statistically significant\")\n",
    "\n",
    "  ga_evaluations = ga_experiment[\"n_evaluations\"]\n",
    "  aco_evaluations = aco_experiment[\"n_evaluations\"]\n",
    "\n",
    "  print(f\"GA Evaluations: {ga_evaluations.mean()} +/- {ga_evaluations.std()}\")\n",
    "  print(f\"ACO Evaluations: {aco_evaluations.mean()} +/- {aco_evaluations.std()}\")\n",
    "\n",
    "  if is_better(ga_evaluations, aco_evaluations):\n",
    "    print(\"GA is better than ACO in Speed\")\n",
    "  else:\n",
    "    print(\"ACO is better than GA in Speed\")\n",
    "  \n",
    "  res = wilcoxon(ga_evaluations, aco_evaluations)\n",
    "  if res.p_value < alpha:\n",
    "    print(\"The difference is statistically significant\")\n",
    "  else:\n",
    "    print(\"The difference is not statistically significant\")\n",
    "  print(\"------------------------------------------------\")"
   ]
  }
 ],
 "metadata": {
  "kernelspec": {
   "display_name": "py12",
   "language": "python",
   "name": "python3"
  },
  "language_info": {
   "codemirror_mode": {
    "name": "ipython",
    "version": 3
   },
   "file_extension": ".py",
   "mimetype": "text/x-python",
   "name": "python",
   "nbconvert_exporter": "python",
   "pygments_lexer": "ipython3",
   "version": "3.12.1"
  }
 },
 "nbformat": 4,
 "nbformat_minor": 2
}
