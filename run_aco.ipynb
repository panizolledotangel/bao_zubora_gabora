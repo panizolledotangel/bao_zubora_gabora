{
  "cells": [
    {
      "cell_type": "markdown",
      "metadata": {},
      "source": [
        "# Run one execution"
      ]
    },
    {
      "cell_type": "code",
      "execution_count": null,
      "metadata": {
        "id": "CeHVsv20fLyT"
      },
      "outputs": [],
      "source": [
        "from zubora_gabora.experiment.aco.aco_experiment_executer import ACOExperimentExecuter\n",
        "from zubora_gabora.aco.aco_zubora_gabora import ACOZuboraGabora\n",
        "\n",
        "executer = ACOExperimentExecuter(data_path=\"data/dataset.csv\")\n",
        "\n",
        "aco = executer.run_single_experiment(\"1\")\n",
        "\n",
        "print(f\"Best fitness: {1.0/aco.best_fitness:.0f}\")\n",
        "ACOZuboraGabora.decode_solution(aco.best_solution)"
      ]
    },
    {
      "cell_type": "markdown",
      "metadata": {},
      "source": [
        "## Draw Gantt of solution"
      ]
    },
    {
      "cell_type": "code",
      "execution_count": null,
      "metadata": {},
      "outputs": [],
      "source": [
        "import matplotlib.pyplot as plt\n",
        "import seaborn as sns\n",
        "\n",
        "sns.set_style(\"darkgrid\")\n",
        "\n",
        "def draw_gantt_tasks_ordered(assignments, schedule):\n",
        "    \"\"\"\n",
        "    Draws a Gantt chart with each row representing a task in the order:\n",
        "    F1, G1, F2, G2, …, Fn, Gn.\n",
        "    \n",
        "    The color of each bar indicates the worker (e.g., Zu, Ga) who performed the task.\n",
        "    \n",
        "    Parameters:\n",
        "      - assignments: list of dictionaries for each sword mapping task ('F' or 'G') to a worker.\n",
        "      - schedule: list of dictionaries for each sword mapping task ('F' or 'G') to [start, end] times.\n",
        "    \"\"\"\n",
        "    # Define colors for each worker.\n",
        "    worker_colors = {'Zu': 'tab:blue', 'Ga': 'tab:orange'}\n",
        "    \n",
        "    # Build a list of tasks in the desired order.\n",
        "    tasks_list = []\n",
        "    for sword_idx, (assign, times) in enumerate(zip(assignments, schedule)):\n",
        "        # Process tasks in fixed order: F then G.\n",
        "        for task in ['F', 'G']:\n",
        "            worker = assign[task]\n",
        "            start, end = times[task]\n",
        "            duration = end - start\n",
        "            label = f\"{task}{sword_idx + 1}\"\n",
        "            tasks_list.append({\n",
        "                'label': label,\n",
        "                'worker': worker,\n",
        "                'start': start,\n",
        "                'duration': duration\n",
        "            })\n",
        "    \n",
        "    # Create the plot.\n",
        "    fig, ax = plt.subplots(figsize=(10, 6))\n",
        "    row_height = 8\n",
        "    row_gap = 10  # vertical spacing between rows\n",
        "    \n",
        "    # Plot each task.\n",
        "    for row_idx, task_item in enumerate(tasks_list):\n",
        "        y_pos = row_idx * row_gap\n",
        "        ax.broken_barh(\n",
        "            [(task_item['start'], task_item['duration'])],\n",
        "            (y_pos, row_height),\n",
        "            facecolors=worker_colors.get(task_item['worker'], 'gray'),\n",
        "            edgecolor='black', alpha=0.8\n",
        "        )\n",
        "        # Add the task label inside the bar.\n",
        "        ax.text(\n",
        "            task_item['start'] + task_item['duration'] / 2, \n",
        "            y_pos + row_height / 2,\n",
        "            task_item['label'], ha='center', va='center', color='white', fontsize=9\n",
        "        )\n",
        "    \n",
        "    # Set y-ticks and labels.\n",
        "    ax.set_yticks([i * row_gap + row_height / 2 for i in range(len(tasks_list))])\n",
        "    ax.set_yticklabels([task['label'] for task in tasks_list])\n",
        "    ax.set_xlabel(\"Time\")\n",
        "    ax.set_title(\"Gantt Chart (Ordered as F1, G1, F2, G2, …)\")\n",
        "    \n",
        "    # Create a legend mapping colors to workers.\n",
        "    legend_handles = [plt.Rectangle((0, 0), 1, 1, color=worker_colors[w]) for w in worker_colors]\n",
        "    ax.legend(legend_handles, worker_colors.keys(), title=\"Worker\", loc='upper right')\n",
        "    \n",
        "    plt.tight_layout()\n",
        "    plt.show()\n",
        "\n",
        "\n",
        "# Example data (as provided)\n",
        "assignments = aco.best_solution[0]\n",
        "\n",
        "_, schedule = aco._simulate_forging(assignments, aco.best_solution[1])\n",
        "\n",
        "# Draw the ordered Gantt chart.\n",
        "draw_gantt_tasks_ordered(ACOZuboraGabora._decode_who(assignments), schedule)"
      ]
    },
    {
      "cell_type": "markdown",
      "metadata": {},
      "source": [
        "## Process Visualization"
      ]
    },
    {
      "cell_type": "markdown",
      "metadata": {},
      "source": [
        "### Fitness evolution"
      ]
    },
    {
      "cell_type": "code",
      "execution_count": null,
      "metadata": {},
      "outputs": [],
      "source": [
        "import numpy as np\n",
        "import matplotlib.pyplot as plt\n",
        "import seaborn as sns\n",
        "sns.set_style('darkgrid')\n",
        "\n",
        "fitness = 1/np.array([[ant[1] for ant in trails] for trails in aco.trails_history ])\n",
        "best_fitness = 1/np.array(aco.best_fitness_history)\n",
        "\n",
        "fig, axs = plt.subplots(figsize=(5,5))\n",
        "axs.set_title('Fitness evolution')\n",
        "axs.set_xlabel('Iterations')\n",
        "axs.set_ylabel('Fitness')\n",
        "\n",
        "axs.plot(best_fitness, label='best_high')\n",
        "\n",
        "median = np.median(fitness, axis=1)\n",
        "min_array = np.min(fitness, axis=1)\n",
        "max_array = np.max(fitness, axis=1)\n",
        "axs.plot(median, label='iterations_high')\n",
        "axs.fill_between(np.arange(len(median)), min_array, max_array, alpha=0.3, color='orange')\n",
        "\n",
        "plt.legend()"
      ]
    },
    {
      "cell_type": "markdown",
      "metadata": {},
      "source": [
        "### Diversity evolution"
      ]
    },
    {
      "cell_type": "code",
      "execution_count": null,
      "metadata": {},
      "outputs": [],
      "source": [
        "population = np.array([[np.array(ant[0]+ant[1]) for ant,_ in trails] for trails in aco.trails_history ])\n",
        "\n",
        "diversity = np.sum(np.std(population, axis=1), axis=1)\n",
        "fig, axs = plt.subplots(figsize=(5,5))\n",
        "axs.set_title('Diversity evolution')\n",
        "axs.set_xlabel('Iterations')\n",
        "axs.set_ylabel('Diversity')\n",
        "axs.plot(diversity, color='orange')"
      ]
    },
    {
      "cell_type": "markdown",
      "metadata": {},
      "source": [
        "# Repeat experiment several times"
      ]
    },
    {
      "cell_type": "code",
      "execution_count": null,
      "metadata": {},
      "outputs": [],
      "source": [
        "from zubora_gabora.experiment.aco.aco_experiment_executer import ACOExperimentExecuter\n",
        "\n",
        "executer = ACOExperimentExecuter(data_path=\"data/dataset.csv\")\n",
        "\n",
        "data = executer.run_repeated_experiment(\"1\", n_repeat=10)\n",
        "\n",
        "print(f\"Best run {data['fitness'].idxmax()}: fitness {data['fitness'].max():.0f} in {data['n_evaluations'].iloc[data['fitness'].idxmax()]} fitness evaluations\")\n",
        "print(f\"Mean fitness: {data['fitness'].mean():.2f} | Std {data['fitness'].std():.2f}\")\n",
        "print(f\"Mean number of fitness evaluations: {data['n_evaluations'].mean()}\")"
      ]
    },
    {
      "cell_type": "markdown",
      "metadata": {},
      "source": [
        "# Run all experiments"
      ]
    },
    {
      "cell_type": "code",
      "execution_count": null,
      "metadata": {},
      "outputs": [],
      "source": [
        "from zubora_gabora.experiment.aco.aco_experiment_executer import ACOExperimentExecuter\n",
        "\n",
        "executer = ACOExperimentExecuter(data_path=\"data/dataset.csv\")\n",
        "executer.run_all_experiments(\"experiments/aco/\", n_repeat=31)"
      ]
    }
  ],
  "metadata": {
    "colab": {
      "provenance": []
    },
    "kernelspec": {
      "display_name": "jupyter-basic",
      "language": "python",
      "name": "jupyter-basic"
    },
    "language_info": {
      "codemirror_mode": {
        "name": "ipython",
        "version": 3
      },
      "file_extension": ".py",
      "mimetype": "text/x-python",
      "name": "python",
      "nbconvert_exporter": "python",
      "pygments_lexer": "ipython3",
      "version": "3.12.3"
    }
  },
  "nbformat": 4,
  "nbformat_minor": 0
}
