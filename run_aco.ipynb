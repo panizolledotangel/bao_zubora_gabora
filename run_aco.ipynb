{
  "cells": [
    {
      "cell_type": "markdown",
      "metadata": {},
      "source": [
        "# Run one execution"
      ]
    },
    {
      "cell_type": "code",
      "execution_count": null,
      "metadata": {
        "id": "CeHVsv20fLyT"
      },
      "outputs": [],
      "source": [
        "from zubora_gabora.experiment.aco.aco_experiment_executer import ACOExperimentExecuter\n",
        "from zubora_gabora.aco.aco_zubora_gabora import ACOZuboraGabora\n",
        "\n",
        "executer = ACOExperimentExecuter(data_path=\"data/dataset.csv\")\n",
        "\n",
        "aco = executer.run_single_experiment(\"1\")\n",
        "\n",
        "print(f\"Best fitness: {1.0/aco.best_fitness:.0f}\")\n",
        "print(f\"Best solution: {aco.best_solution}\")\n",
        "ACOZuboraGabora.decode_solution(aco.best_solution)"
      ]
    },
    {
      "cell_type": "markdown",
      "metadata": {},
      "source": [
        "## Draw Gantt of solution"
      ]
    },
    {
      "cell_type": "code",
      "execution_count": null,
      "metadata": {},
      "outputs": [],
      "source": [
        "from zubora_gabora.experiment.visualization import draw_gantt_tasks_ordered\n",
        "\n",
        "# Example data (as provided)\n",
        "assignments = aco.best_solution[0]\n",
        "\n",
        "_, schedule = aco._simulate_forging(assignments, aco.best_solution[1])\n",
        "\n",
        "# Draw the ordered Gantt chart.\n",
        "draw_gantt_tasks_ordered(ACOZuboraGabora._decode_who(assignments), schedule)"
      ]
    },
    {
      "cell_type": "markdown",
      "metadata": {},
      "source": [
        "## Process Visualization"
      ]
    },
    {
      "cell_type": "markdown",
      "metadata": {},
      "source": [
        "### Fitness evolution"
      ]
    },
    {
      "cell_type": "code",
      "execution_count": null,
      "metadata": {},
      "outputs": [],
      "source": [
        "import numpy as np\n",
        "import matplotlib.pyplot as plt\n",
        "import seaborn as sns\n",
        "sns.set_style('darkgrid')\n",
        "\n",
        "fitness = 1/np.array([[ant[1] for ant in trails] for trails in aco.trails_history ])\n",
        "best_fitness = 1/np.array(aco.best_fitness_history)\n",
        "\n",
        "fig, axs = plt.subplots(figsize=(5,5))\n",
        "axs.set_title('Fitness evolution')\n",
        "axs.set_xlabel('Iterations')\n",
        "axs.set_ylabel('Fitness')\n",
        "\n",
        "axs.plot(best_fitness, label='best_high')\n",
        "\n",
        "median = np.median(fitness, axis=1)\n",
        "min_array = np.min(fitness, axis=1)\n",
        "max_array = np.max(fitness, axis=1)\n",
        "axs.plot(median, label='iterations_high')\n",
        "axs.fill_between(np.arange(len(median)), min_array, max_array, alpha=0.3, color='orange')\n",
        "\n",
        "plt.legend()"
      ]
    },
    {
      "cell_type": "markdown",
      "metadata": {},
      "source": [
        "### Diversity evolution"
      ]
    },
    {
      "cell_type": "code",
      "execution_count": null,
      "metadata": {},
      "outputs": [],
      "source": [
        "population = np.array([[np.array(ant[0]+ant[1]) for ant,_ in trails] for trails in aco.trails_history ])\n",
        "\n",
        "diversity = np.sum(np.std(population, axis=1), axis=1)\n",
        "fig, axs = plt.subplots(figsize=(5,5))\n",
        "axs.set_title('Diversity evolution')\n",
        "axs.set_xlabel('Iterations')\n",
        "axs.set_ylabel('Diversity')\n",
        "axs.plot(diversity, color='orange')"
      ]
    },
    {
      "cell_type": "markdown",
      "metadata": {},
      "source": [
        "# Repeat experiment several times"
      ]
    },
    {
      "cell_type": "code",
      "execution_count": null,
      "metadata": {},
      "outputs": [],
      "source": [
        "from zubora_gabora.experiment.aco.aco_experiment_executer import ACOExperimentExecuter\n",
        "\n",
        "executer = ACOExperimentExecuter(data_path=\"data/dataset.csv\")\n",
        "\n",
        "data = executer.run_repeated_experiment(\"1\", n_repeat=10)\n",
        "\n",
        "print(f\"Best run {data['fitness'].idxmax()}: fitness {data['fitness'].max():.0f} in {data['n_evaluations'].iloc[data['fitness'].idxmax()]} fitness evaluations\")\n",
        "print(f\"Mean fitness: {data['fitness'].mean():.2f} | Std {data['fitness'].std():.2f}\")\n",
        "print(f\"Mean number of fitness evaluations: {data['n_evaluations'].mean()}\")"
      ]
    },
    {
      "cell_type": "markdown",
      "metadata": {},
      "source": [
        "# Run all experiments"
      ]
    },
    {
      "cell_type": "code",
      "execution_count": null,
      "metadata": {},
      "outputs": [],
      "source": [
        "from zubora_gabora.experiment.aco.aco_experiment_executer import ACOExperimentExecuter\n",
        "\n",
        "executer = ACOExperimentExecuter(data_path=\"data/dataset.csv\")\n",
        "executer.run_all_experiments(\"experiments/aco/\", n_repeat=31)"
      ]
    }
  ],
  "metadata": {
    "colab": {
      "provenance": []
    },
    "kernelspec": {
      "display_name": "py12",
      "language": "python",
      "name": "python3"
    },
    "language_info": {
      "codemirror_mode": {
        "name": "ipython",
        "version": 3
      },
      "file_extension": ".py",
      "mimetype": "text/x-python",
      "name": "python",
      "nbconvert_exporter": "python",
      "pygments_lexer": "ipython3",
      "version": "3.12.1"
    }
  },
  "nbformat": 4,
  "nbformat_minor": 0
}
