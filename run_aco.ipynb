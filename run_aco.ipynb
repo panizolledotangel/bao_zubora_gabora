{
  "cells": [
    {
      "cell_type": "markdown",
      "metadata": {},
      "source": [
        "# Find solution"
      ]
    },
    {
      "cell_type": "code",
      "execution_count": null,
      "metadata": {
        "id": "CeHVsv20fLyT"
      },
      "outputs": [],
      "source": [
        "from zubora_gabora.aco.aco_zubora_gabora import ACOZuboraGabora\n",
        "\n",
        "n_blades = 10\n",
        "times = {\n",
        "    \"Zu\": {\"F\": 5, \"G\": 3},\n",
        "    \"Ga\": {\"F\": 2, \"G\": 6}\n",
        "}\n",
        "aco = ACOZuboraGabora(n_blades, times, alpha=0.5, beta=1.0, rho=0.75)\n",
        "aco.optimize(1000)\n",
        "print(f\"Best fitness: {1.0/aco.best_fitness:.0f}\")\n",
        "ACOZuboraGabora.decode_solution(aco.best_solution)"
      ]
    },
    {
      "cell_type": "markdown",
      "metadata": {},
      "source": [
        "## Draw Gantt of solution"
      ]
    },
    {
      "cell_type": "code",
      "execution_count": null,
      "metadata": {},
      "outputs": [],
      "source": [
        "import matplotlib.pyplot as plt\n",
        "import seaborn as sns\n",
        "\n",
        "sns.set_style(\"darkgrid\")\n",
        "\n",
        "def draw_gantt_tasks_ordered(assignments, schedule):\n",
        "    \"\"\"\n",
        "    Draws a Gantt chart with each row representing a task in the order:\n",
        "    F1, G1, F2, G2, …, Fn, Gn.\n",
        "    \n",
        "    The color of each bar indicates the worker (e.g., Zu, Ga) who performed the task.\n",
        "    \n",
        "    Parameters:\n",
        "      - assignments: list of dictionaries for each sword mapping task ('F' or 'G') to a worker.\n",
        "      - schedule: list of dictionaries for each sword mapping task ('F' or 'G') to [start, end] times.\n",
        "    \"\"\"\n",
        "    # Define colors for each worker.\n",
        "    worker_colors = {'Zu': 'tab:blue', 'Ga': 'tab:orange'}\n",
        "    \n",
        "    # Build a list of tasks in the desired order.\n",
        "    tasks_list = []\n",
        "    for sword_idx, (assign, times) in enumerate(zip(assignments, schedule)):\n",
        "        # Process tasks in fixed order: F then G.\n",
        "        for task in ['F', 'G']:\n",
        "            worker = assign[task]\n",
        "            start, end = times[task]\n",
        "            duration = end - start\n",
        "            label = f\"{task}{sword_idx + 1}\"\n",
        "            tasks_list.append({\n",
        "                'label': label,\n",
        "                'worker': worker,\n",
        "                'start': start,\n",
        "                'duration': duration\n",
        "            })\n",
        "    \n",
        "    # Create the plot.\n",
        "    fig, ax = plt.subplots(figsize=(10, 6))\n",
        "    row_height = 8\n",
        "    row_gap = 10  # vertical spacing between rows\n",
        "    \n",
        "    # Plot each task.\n",
        "    for row_idx, task_item in enumerate(tasks_list):\n",
        "        y_pos = row_idx * row_gap\n",
        "        ax.broken_barh(\n",
        "            [(task_item['start'], task_item['duration'])],\n",
        "            (y_pos, row_height),\n",
        "            facecolors=worker_colors.get(task_item['worker'], 'gray'),\n",
        "            edgecolor='black', alpha=0.8\n",
        "        )\n",
        "        # Add the task label inside the bar.\n",
        "        ax.text(\n",
        "            task_item['start'] + task_item['duration'] / 2, \n",
        "            y_pos + row_height / 2,\n",
        "            task_item['label'], ha='center', va='center', color='white', fontsize=9\n",
        "        )\n",
        "    \n",
        "    # Set y-ticks and labels.\n",
        "    ax.set_yticks([i * row_gap + row_height / 2 for i in range(len(tasks_list))])\n",
        "    ax.set_yticklabels([task['label'] for task in tasks_list])\n",
        "    ax.set_xlabel(\"Time\")\n",
        "    ax.set_title(\"Gantt Chart (Ordered as F1, G1, F2, G2, …)\")\n",
        "    \n",
        "    # Create a legend mapping colors to workers.\n",
        "    legend_handles = [plt.Rectangle((0, 0), 1, 1, color=worker_colors[w]) for w in worker_colors]\n",
        "    ax.legend(legend_handles, worker_colors.keys(), title=\"Worker\", loc='upper right')\n",
        "    \n",
        "    plt.tight_layout()\n",
        "    plt.show()\n",
        "\n",
        "\n",
        "# Example data (as provided)\n",
        "assignments = aco.best_solution[0]\n",
        "\n",
        "_, schedule = aco._simulate_forging(assignments, aco.best_solution[1])\n",
        "\n",
        "# Draw the ordered Gantt chart.\n",
        "draw_gantt_tasks_ordered(ACOZuboraGabora._decode_who(assignments), schedule)"
      ]
    },
    {
      "cell_type": "markdown",
      "metadata": {},
      "source": [
        "# Process Visualization"
      ]
    },
    {
      "cell_type": "markdown",
      "metadata": {},
      "source": [
        "## Fitness evolution"
      ]
    },
    {
      "cell_type": "code",
      "execution_count": null,
      "metadata": {},
      "outputs": [],
      "source": [
        "import numpy as np\n",
        "import matplotlib.pyplot as plt\n",
        "import seaborn as sns\n",
        "sns.set_style('darkgrid')\n",
        "\n",
        "fitness = 1/np.array([[ant[1] for ant in trails] for trails in aco.trails_history ])\n",
        "best_fitness = 1/np.array(aco.best_fitness_history)\n",
        "\n",
        "fig, axs = plt.subplots(figsize=(5,5))\n",
        "axs.set_title('Fitness evolution')\n",
        "axs.set_xlabel('Iterations')\n",
        "axs.set_ylabel('Fitness')\n",
        "\n",
        "axs.plot(best_fitness, label='best_high')\n",
        "\n",
        "median = np.median(fitness, axis=1)\n",
        "min_array = np.min(fitness, axis=1)\n",
        "max_array = np.max(fitness, axis=1)\n",
        "axs.plot(median, label='iterations_high')\n",
        "axs.fill_between(np.arange(len(median)), min_array, max_array, alpha=0.3, color='orange')\n",
        "\n",
        "plt.legend()"
      ]
    },
    {
      "cell_type": "markdown",
      "metadata": {},
      "source": [
        "## Diversity evolution"
      ]
    },
    {
      "cell_type": "code",
      "execution_count": null,
      "metadata": {},
      "outputs": [],
      "source": [
        "population = np.array([[np.array(ant[0]+ant[1]) for ant,_ in trails] for trails in aco.trails_history ])\n",
        "\n",
        "diversity = np.sum(np.std(population, axis=1), axis=1)\n",
        "fig, axs = plt.subplots(figsize=(5,5))\n",
        "axs.set_title('Diversity evolution')\n",
        "axs.set_xlabel('Iterations')\n",
        "axs.set_ylabel('Diversity')\n",
        "axs.plot(diversity, color='orange')"
      ]
    },
    {
      "cell_type": "markdown",
      "metadata": {},
      "source": [
        "## Number of different solutions"
      ]
    },
    {
      "cell_type": "code",
      "execution_count": null,
      "metadata": {},
      "outputs": [],
      "source": [
        "from itertools import accumulate\n",
        "\n",
        "population = np.array([[np.array(ant[0]+ant[1]) for ant,_ in trails] for trails in aco.trails_history ])\n",
        "\n",
        "def stringify_individual(individual) -> str:\n",
        "    return ''.join([str(int(i)) for i in individual])\n",
        "\n",
        "a = np.apply_along_axis(stringify_individual, 2, population)\n",
        "a = list(accumulate(a, lambda x, y: x.union(set(y)), initial=set()))\n",
        "\n",
        "fig, axs = plt.subplots(figsize=(5,5))\n",
        "axs.plot([len(x) for x in a], color='orange')\n",
        "axs.set_title('Unique solutions evolution')\n",
        "axs.set_xlabel('Iterations')\n",
        "axs.set_ylabel('Unique solutions')"
      ]
    },
    {
      "cell_type": "markdown",
      "metadata": {},
      "source": [
        "## Pheromone evolution"
      ]
    },
    {
      "cell_type": "code",
      "execution_count": null,
      "metadata": {},
      "outputs": [],
      "source": [
        "import numpy as np\n",
        "import seaborn as sns\n",
        "import matplotlib.pyplot as plt\n",
        "import matplotlib.animation as animation\n",
        "\n",
        "# -----------------------------\n",
        "# Example: Create sample data.\n",
        "# Replace this with your own list of arrays.\n",
        "list_of_arrays = aco.pheromone_history\n",
        "# -----------------------------\n",
        "\n",
        "# Create a figure and axis for plotting.\n",
        "fig, ax = plt.subplots(1,2, figsize=(12, 5))\n",
        "\n",
        "\n",
        "def plot_heatmap(data, ax):\n",
        "    ax.clear()  # Clear previous heatmap\n",
        "\n",
        "    # Normalize the array: (data - min) / (max - min)\n",
        "    data_min = data.min()\n",
        "    data_max = data.max()\n",
        "    # Prevent division by zero in case data is constant\n",
        "    if data_max - data_min != 0:\n",
        "        norm_data = (data - data_min) / (data_max - data_min)\n",
        "    else:\n",
        "        norm_data = np.zeros_like(data)\n",
        "    \n",
        "    # Plot the normalized heatmap. Remove color bar with cbar=False.\n",
        "    sns.heatmap(norm_data, ax=ax, cmap=\"inferno\", cbar=False, vmin=0, vmax=1)\n",
        "\n",
        "def update(frame):\n",
        "    \"\"\"Update function for the animation.\n",
        "    \n",
        "    This function normalizes the current array's values between 0 and 1,\n",
        "    clears the previous plot, and plots the normalized heatmap.\n",
        "    \"\"\"\n",
        "    \n",
        "    plot_heatmap(list_of_arrays[frame][0], ax[0])\n",
        "    plot_heatmap(list_of_arrays[frame][1], ax[1])\n",
        "    \n",
        "    fig.suptitle(f\"Frame {frame+1}\")\n",
        "    \n",
        "\n",
        "# Create the animation. Adjust 'interval' (ms) and 'frames' as needed.\n",
        "ani = animation.FuncAnimation(fig, update, frames=len(list_of_arrays), interval=50, repeat=False)\n",
        "\n",
        "# Save the animation to a video file.\n",
        "# Note: Ensure you have ffmpeg installed on your system.\n",
        "writer = animation.FFMpegWriter(fps=5)\n",
        "ani.save(\"heatmap_evolution_normalized.mp4\", writer=writer)\n",
        "\n",
        "# Optionally, display the animation window.\n",
        "plt.show()"
      ]
    }
  ],
  "metadata": {
    "colab": {
      "provenance": []
    },
    "kernelspec": {
      "display_name": "jupyter-basic",
      "language": "python",
      "name": "jupyter-basic"
    },
    "language_info": {
      "codemirror_mode": {
        "name": "ipython",
        "version": 3
      },
      "file_extension": ".py",
      "mimetype": "text/x-python",
      "name": "python",
      "nbconvert_exporter": "python",
      "pygments_lexer": "ipython3",
      "version": "3.12.3"
    }
  },
  "nbformat": 4,
  "nbformat_minor": 0
}
